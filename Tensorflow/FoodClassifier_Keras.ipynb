{
 "cells": [
  {
   "cell_type": "code",
   "execution_count": null,
   "metadata": {},
   "outputs": [
    {
     "name": "stderr",
     "output_type": "stream",
     "text": [
      "Using TensorFlow backend.\n"
     ]
    }
   ],
   "source": [
    "import os\n",
    "import random\n",
    "\n",
    "os.environ['KERAS_BACKEND'] = \"tensorflow\"\n",
    "os.environ[\"CUDA_DEVICE_ORDER\"]=\"PCI_BUS_ID\"\n",
    "os.environ[\"CUDA_VISIBLE_DEVICES\"]=\"0\"\n",
    "\n",
    "import tensorflow as tf\n",
    "from keras.utils.io_utils import HDF5Matrix\n",
    "import h5py\n",
    "import matplotlib.pyplot as plt\n",
    "import numpy as np\n",
    "from keras.models import Sequential\n",
    "from keras.layers import *\n",
    "from keras.preprocessing.image import ImageDataGenerator"
   ]
  },
  {
   "cell_type": "code",
   "execution_count": null,
   "metadata": {
    "collapsed": true
   },
   "outputs": [],
   "source": [
    "# DEFINES\n",
    "TRAIN_PATH = 'food-images/food_c101_n10099_r64x64x3.h5'\n",
    "TEST_PATH = 'food-images/food_test_c101_n1000_r64x64x3.h5'\n",
    "\n",
    "IMAGE_CHANNELS = 3\n",
    "BATCH_SIZE = 32\n",
    "EPOCHS = 100\n",
    "IMAGE_WIDTH, IMAGE_HEIGHT = 3, 3\n",
    "#gpu_options = tf.GPUOptions(per_process_gpu_memory_fraction=0.333)"
   ]
  },
  {
   "cell_type": "code",
   "execution_count": null,
   "metadata": {},
   "outputs": [],
   "source": [
    "# GET DATA\n",
    "X_train = HDF5Matrix(TRAIN_PATH,\n",
    "                     'images')  # Shape (10099, 32, 32, 3) => [image_index][pixel_width_index][pixel_height_index][color_channel_index]\n",
    "y_train = HDF5Matrix(TRAIN_PATH, 'category')  # Shape (1000, 101) => [image_index][one_hot_encoded_vector]\n",
    "print(\"X_train shape: \", X_train.shape, \" y_train shape: \", y_train.shape)\n",
    "\n",
    "X_test = HDF5Matrix(TEST_PATH,\n",
    "                    'images')  # Shape (10099, 32, 32, 3) => [image_index][pixel_width_index][pixel_height_index][color_channel_index]\n",
    "y_test = HDF5Matrix(TEST_PATH, 'category')  # Shape (1000, 101) => [image_index][one_hot_encoded_vector]\n",
    "print(\"X_test shape: \", X_test.shape, \" y_test shape: \", y_test.shape)"
   ]
  },
  {
   "cell_type": "code",
   "execution_count": null,
   "metadata": {
    "collapsed": true
   },
   "outputs": [],
   "source": [
    "classifier = Sequential()\n",
    "\n",
    "\n",
    "classifier.add(Conv2D(64, (3, 3), input_shape = (64, 64, 3), activation = 'relu'))\n",
    "classifier.add(MaxPooling2D(pool_size = (2, 2)))\n",
    "\n",
    "\n",
    "classifier.add(Conv2D(128, (3, 3),  activation = 'relu'))\n",
    "classifier.add(Conv2D(128, (3, 3),  activation = 'relu'))\n",
    "classifier.add(MaxPooling2D(pool_size = (2, 2)))\n",
    "\n",
    "classifier.add(Flatten())\n",
    "\n",
    "classifier.add(Dense(units = 2048, activation = 'relu'))\n",
    "classifier.add(Dense(units = 4096, activation = 'relu'))\n",
    "classifier.add(Dense(units = 2048, activation = 'relu'))\n",
    "classifier.add(Dense(units = 101, activation = 'softmax'))\n",
    "\n",
    "classifier.compile(optimizer = 'adam', loss = 'categorical_crossentropy', metrics = ['accuracy'])"
   ]
  },
  {
   "cell_type": "code",
   "execution_count": null,
   "metadata": {},
   "outputs": [],
   "source": [
    "print(classifier.summary())"
   ]
  },
  {
   "cell_type": "code",
   "execution_count": null,
   "metadata": {},
   "outputs": [],
   "source": [
    "classifier.fit(X_train, \n",
    "               y_train, \n",
    "               batch_size= 32,\n",
    "               epochs = 80,\n",
    "               validation_data = (X_test, y_test),\n",
    "               shuffle=\"batch\"\n",
    ")\n"
   ]
  },
  {
   "cell_type": "markdown",
   "metadata": {},
   "source": [
    "###### "
   ]
  }
 ],
 "metadata": {
  "kernelspec": {
   "display_name": "Python 3",
   "language": "python",
   "name": "python3"
  },
  "language_info": {
   "codemirror_mode": {
    "name": "ipython",
    "version": 3
   },
   "file_extension": ".py",
   "mimetype": "text/x-python",
   "name": "python",
   "nbconvert_exporter": "python",
   "pygments_lexer": "ipython3",
   "version": "3.5.3"
  }
 },
 "nbformat": 4,
 "nbformat_minor": 2
}
