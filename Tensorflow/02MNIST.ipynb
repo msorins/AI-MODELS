{
 "cells": [
  {
   "cell_type": "markdown",
   "metadata": {},
   "source": [
    "**Import and download MNIST**"
   ]
  },
  {
   "cell_type": "code",
   "execution_count": 1,
   "metadata": {},
   "outputs": [
    {
     "name": "stdout",
     "output_type": "stream",
     "text": [
      "Extracting MNIST_data/train-images-idx3-ubyte.gz\n",
      "Extracting MNIST_data/train-labels-idx1-ubyte.gz\n",
      "Extracting MNIST_data/t10k-images-idx3-ubyte.gz\n",
      "Extracting MNIST_data/t10k-labels-idx1-ubyte.gz\n"
     ]
    }
   ],
   "source": [
    "from tensorflow.examples.tutorials.mnist import input_data\n",
    "import tensorflow as tf\n",
    "mnist = input_data.read_data_sets(\"MNIST_data/\", one_hot = True)"
   ]
  },
  {
   "cell_type": "code",
   "execution_count": 2,
   "metadata": {
    "collapsed": true
   },
   "outputs": [],
   "source": [
    "#Parameters\n",
    "x = tf.placeholder(tf.float32, [None, 784]) # input of shape [picture_index][pixel_index]\n",
    "W = tf.Variable(tf.zeros([784, 10])) # Weights [pixel_index][answer_class_index]\n",
    "b = tf.Variable(tf.zeros([10])) # Bias [classes_index]\n",
    "y_ = tf.placeholder(tf.float32, [None, 10]) # Correct answers [picture_index][answer_class_index]\n",
    "\n",
    "#The model\n",
    "y = tf.nn.softmax(tf.matmul(x, W) + b) \n",
    "\n",
    "#Loss\n",
    "cross_entropy = tf.reduce_mean(tf.nn.softmax_cross_entropy_with_logits(labels=y_, logits=y))\n",
    "\n",
    "#Optimizer\n",
    "train_step = tf.train.GradientDescentOptimizer(0.5).minimize(cross_entropy)\n"
   ]
  },
  {
   "cell_type": "code",
   "execution_count": 6,
   "metadata": {},
   "outputs": [
    {
     "name": "stdout",
     "output_type": "stream",
     "text": [
      "0.3911\n",
      "0.8065\n",
      "0.8219\n",
      "0.8437\n",
      "0.8839\n",
      "0.893\n",
      "0.8992\n",
      "0.9005\n",
      "0.9031\n",
      "0.9054\n",
      "0.906\n"
     ]
    }
   ],
   "source": [
    "#Launch the model in an interactive session\n",
    "sess = tf.InteractiveSession()\n",
    "\n",
    "#Initialise the created variables\n",
    "tf.global_variables_initializer().run()\n",
    "\n",
    "#Train\n",
    "for _ in range(1000):\n",
    "    #Stochastic training / stochastic gradient descent\n",
    "    batch_xs, batch_ys = mnist.train.next_batch(100)\n",
    "    sess.run(train_step, feed_dict = {x: batch_xs, y_: batch_ys})\n",
    "    \n",
    "    if _ % 100 == 0:\n",
    "        #Evaluate\n",
    "        correct_prediction = tf.equal(tf.argmax(y, 1), tf.argmax(y_, 1))\n",
    "        accuracy = tf.reduce_mean(tf.cast(correct_prediction, tf.float32))\n",
    "        print(sess.run(accuracy, feed_dict={x: mnist.test.images, y_: mnist.test.labels}))\n",
    "\n",
    "    \n",
    "#Evaluate\n",
    "correct_prediction = tf.equal(tf.argmax(y, 1), tf.argmax(y_, 1))\n",
    "accuracy = tf.reduce_mean(tf.cast(correct_prediction, tf.float32))\n",
    "print(sess.run(accuracy, feed_dict={x: mnist.test.images, y_: mnist.test.labels}))\n"
   ]
  },
  {
   "cell_type": "code",
   "execution_count": null,
   "metadata": {
    "collapsed": true
   },
   "outputs": [],
   "source": []
  }
 ],
 "metadata": {
  "kernelspec": {
   "display_name": "Python 3",
   "language": "python",
   "name": "python3"
  },
  "language_info": {
   "codemirror_mode": {
    "name": "ipython",
    "version": 3
   },
   "file_extension": ".py",
   "mimetype": "text/x-python",
   "name": "python",
   "nbconvert_exporter": "python",
   "pygments_lexer": "ipython3",
   "version": "3.5.3"
  }
 },
 "nbformat": 4,
 "nbformat_minor": 2
}
