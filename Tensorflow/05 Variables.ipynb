{
 "cells": [
  {
   "cell_type": "markdown",
   "metadata": {},
   "source": [
    "A TensorFlow variable is the best way to represent shared, persistent state manipulated by your program.\n",
    "\n",
    "Specific ops allow you to read and modify the values of this tensor. These modifications are visible across multiple tf.Sessions, so multiple workers can see the same values for a tf.Variable."
   ]
  },
  {
   "cell_type": "code",
   "execution_count": 1,
   "metadata": {
    "collapsed": true
   },
   "outputs": [],
   "source": [
    "import tensorflow as tf\n",
    "import os\n",
    "os.environ[\"CUDA_DEVICE_ORDER\"]=\"PCI_BUS_ID\" # see issue #152\n",
    "os.environ[\"CUDA_VISIBLE_DEVICES\"]=\"0\" # Will use only 2nd, 3rd and 4th gpu"
   ]
  },
  {
   "cell_type": "code",
   "execution_count": 2,
   "metadata": {},
   "outputs": [],
   "source": [
    "#Create variables\n",
    "reuse = True\n",
    "\n",
    "var = tf.Variable(3.14, tf.float64)\n",
    "var2 = tf.get_variable(\"levar\", [1, 2, 3,], dtype = tf.int32, initializer = tf.zeros_initializer)\n",
    "var3 = tf.get_variable(\"other_variable\", dtype = tf.int32, initializer = tf.constant([32, 44]))"
   ]
  },
  {
   "cell_type": "markdown",
   "metadata": {},
   "source": [
    "By default every tf.Variable gets places in **tf.GraphKeys.GLOBAL_VARIABLES** so that can be shared accross multiple devices or **tf.GraphKeys.TRAINABLE_VARIABLES** for which TensorFlow will calculate gradientss\n",
    "\n",
    "Non trainable variables have **tf.GraphKeys.LOCAL_VARIABLES** collection"
   ]
  },
  {
   "cell_type": "code",
   "execution_count": 3,
   "metadata": {},
   "outputs": [
    {
     "name": "stdout",
     "output_type": "stream",
     "text": [
      "[b'my_non_trainable']\n",
      "[array([ 0.], dtype=float32)]\n",
      "[ 0.]\n"
     ]
    }
   ],
   "source": [
    "#Launch the model in session\n",
    "sess = tf.Session( )\n",
    "\n",
    "#Use collection\n",
    "my_local = tf.get_variable(\"my_local\", shape=( [1] ), initializer = tf.zeros_initializer)\n",
    "assignment = my_local.assign([3])\n",
    "\n",
    "\n",
    "tf.global_variables_initializer().run( session = sess )\n",
    "\n",
    "my_non_trainable = tf.get_variable(\"my_non_trainable\", shape=(),trainable=False, initializer = tf.zeros_initializer)\n",
    "\n",
    "#Add to custom collections\n",
    "tf.add_to_collection(\"my_collection_name\", my_local)\n",
    "\n",
    "\n",
    "print(sess.run(tf.report_uninitialized_variables()))\n",
    "\n",
    "#Retreive from collection\n",
    "with tf.control_dependencies([assignment]):\n",
    "    print( sess.run( tf.get_collection(\"my_collection_name\") ) )\n",
    "    print( sess.run( my_local.value() ))"
   ]
  },
  {
   "cell_type": "code",
   "execution_count": null,
   "metadata": {
    "collapsed": true
   },
   "outputs": [],
   "source": []
  }
 ],
 "metadata": {
  "kernelspec": {
   "display_name": "Python 3",
   "language": "python",
   "name": "python3"
  },
  "language_info": {
   "codemirror_mode": {
    "name": "ipython",
    "version": 3
   },
   "file_extension": ".py",
   "mimetype": "text/x-python",
   "name": "python",
   "nbconvert_exporter": "python",
   "pygments_lexer": "ipython3",
   "version": "3.5.3"
  }
 },
 "nbformat": 4,
 "nbformat_minor": 2
}
