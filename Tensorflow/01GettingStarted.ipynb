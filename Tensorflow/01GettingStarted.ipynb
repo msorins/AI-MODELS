{
 "cells": [
  {
   "cell_type": "markdown",
   "metadata": {},
   "source": [
    " ## Import"
   ]
  },
  {
   "cell_type": "code",
   "execution_count": 1,
   "metadata": {
    "collapsed": true
   },
   "outputs": [],
   "source": [
    "import tensorflow as tf"
   ]
  },
  {
   "cell_type": "markdown",
   "metadata": {},
   "source": [
    "**Declare some nodes**"
   ]
  },
  {
   "cell_type": "code",
   "execution_count": 2,
   "metadata": {},
   "outputs": [
    {
     "name": "stdout",
     "output_type": "stream",
     "text": [
      "Tensor(\"Const:0\", shape=(), dtype=float32) Tensor(\"Const_1:0\", shape=(), dtype=float32)\n"
     ]
    }
   ],
   "source": [
    "node1 = tf.constant(3.0, dtype = tf.float32)\n",
    "node2 = tf.constant(4.0) #also tf.float32 implicitly\n",
    "print(node1, node2)"
   ]
  },
  {
   "cell_type": "markdown",
   "metadata": {},
   "source": [
    "**Create an operation**"
   ]
  },
  {
   "cell_type": "code",
   "execution_count": 3,
   "metadata": {},
   "outputs": [
    {
     "data": {
      "text/plain": [
       "<tf.Tensor 'node3_add:0' shape=() dtype=string>"
      ]
     },
     "execution_count": 3,
     "metadata": {},
     "output_type": "execute_result"
    }
   ],
   "source": [
    "node3_add = tf.add(node1, node2)\n",
    "tf.summary.scalar('node3_add', node3_add)"
   ]
  },
  {
   "cell_type": "markdown",
   "metadata": {},
   "source": [
    "**Declare parameterized nodes**"
   ]
  },
  {
   "cell_type": "code",
   "execution_count": 4,
   "metadata": {},
   "outputs": [
    {
     "data": {
      "text/plain": [
       "<tf.Tensor 'node5_add:0' shape=() dtype=string>"
      ]
     },
     "execution_count": 4,
     "metadata": {},
     "output_type": "execute_result"
    }
   ],
   "source": [
    "node4 = tf.placeholder(tf.float32)\n",
    "node5 = tf.placeholder(tf.float32)\n",
    "node5_add = node4 + node5 #Shortcut\n",
    "tf.summary.scalar('node5_add', node5_add)"
   ]
  },
  {
   "cell_type": "code",
   "execution_count": 5,
   "metadata": {},
   "outputs": [
    {
     "data": {
      "text/plain": [
       "<tf.Tensor 'node6_add_triple:0' shape=() dtype=string>"
      ]
     },
     "execution_count": 5,
     "metadata": {},
     "output_type": "execute_result"
    }
   ],
   "source": [
    "node6_add_triple = node5_add * 3\n",
    "tf.summary.scalar('node6_add_triple', node6_add_triple)"
   ]
  },
  {
   "cell_type": "markdown",
   "metadata": {},
   "source": [
    "**Run operations and also log them**"
   ]
  },
  {
   "cell_type": "code",
   "execution_count": 6,
   "metadata": {},
   "outputs": [],
   "source": [
    "init = tf.global_variables_initializer()\n",
    "sess = tf.Session( )\n",
    "merged = tf.summary.merge_all()\n",
    "sess.run(init)\n",
    "\n",
    "\n",
    "summaryWritter = tf.summary.FileWriter('tensorboard', sess.graph)\n",
    "\n",
    "op1, _ = sess.run([merged, node5_add], {node4: 5, node5: 10})\n",
    "summaryWritter.add_summary(op1, 1)\n",
    "\n",
    "op2, _ = sess.run([merged, node6_add_triple], {node4: 1, node5: 1})\n",
    "summaryWritter.add_summary(op2, 2)\n",
    "\n",
    "summaryWritter.flush()"
   ]
  },
  {
   "cell_type": "markdown",
   "metadata": {},
   "source": [
    "**Build a linear model**"
   ]
  },
  {
   "cell_type": "code",
   "execution_count": 8,
   "metadata": {},
   "outputs": [
    {
     "name": "stdout",
     "output_type": "stream",
     "text": [
      "Step: 0 [array([-0.21999997], dtype=float32), array([-0.456], dtype=float32), 4.0181446]\n",
      "Step: 10 [array([-0.53481066], dtype=float32), array([-0.36769974], dtype=float32), 1.2496573]\n",
      "Step: 20 [array([-0.58761531], dtype=float32), array([-0.21246126], dtype=float32), 0.98207408]\n",
      "Step: 30 [array([-0.63442272], dtype=float32), array([-0.07484176], dtype=float32), 0.77178705]\n",
      "Step: 40 [array([-0.67591733], dtype=float32), array([ 0.04715736], dtype=float32), 0.60652792]\n",
      "Step: 50 [array([-0.7127021], dtype=float32), array([ 0.15530905], dtype=float32), 0.47665495]\n",
      "Step: 60 [array([-0.74531162], dtype=float32), array([ 0.25118509], dtype=float32), 0.37459117]\n",
      "Step: 70 [array([-0.77421981], dtype=float32), array([ 0.33617878], dtype=float32), 0.29438165]\n",
      "Step: 80 [array([-0.79984683], dtype=float32), array([ 0.41152528], dtype=float32), 0.23134711]\n",
      "Step: 90 [array([-0.82256508], dtype=float32), array([ 0.47831967], dtype=float32), 0.18180983]\n",
      "Step: 100 [array([-0.84270465], dtype=float32), array([ 0.53753263], dtype=float32), 0.14287975]\n",
      "Step: 110 [array([-0.86055839], dtype=float32), array([ 0.59002471], dtype=float32), 0.11228554]\n",
      "Step: 120 [array([-0.87638563], dtype=float32), array([ 0.63655871], dtype=float32), 0.088242367]\n",
      "Step: 130 [array([-0.89041638], dtype=float32), array([ 0.67781079], dtype=float32), 0.069347411]\n",
      "Step: 140 [array([-0.90285456], dtype=float32), array([ 0.71438056], dtype=float32), 0.054498427]\n",
      "Step: 150 [array([-0.913881], dtype=float32), array([ 0.74679965], dtype=float32), 0.04282894]\n",
      "Step: 160 [array([-0.92365587], dtype=float32), array([ 0.77553892], dtype=float32), 0.033658177]\n",
      "Step: 170 [array([-0.93232119], dtype=float32), array([ 0.80101615], dtype=float32), 0.026451124]\n",
      "Step: 180 [array([-0.94000298], dtype=float32), array([ 0.82360154], dtype=float32), 0.020787284]\n",
      "Step: 190 [array([-0.94681293], dtype=float32), array([ 0.84362352], dtype=float32), 0.016336197]\n",
      "Step: 200 [array([-0.95284992], dtype=float32), array([ 0.86137295], dtype=float32), 0.012838207]\n",
      "Step: 210 [array([-0.95820159], dtype=float32), array([ 0.87710768], dtype=float32), 0.01008922]\n",
      "Step: 220 [array([-0.96294594], dtype=float32), array([ 0.89105642], dtype=float32), 0.0079288855]\n",
      "Step: 230 [array([-0.9671517], dtype=float32), array([ 0.903422], dtype=float32), 0.0062311101]\n",
      "Step: 240 [array([-0.97088015], dtype=float32), array([ 0.91438395], dtype=float32), 0.0048968708]\n",
      "Step: 250 [array([-0.97418535], dtype=float32), array([ 0.92410171], dtype=float32), 0.0038483376]\n",
      "Step: 260 [array([-0.97711539], dtype=float32), array([ 0.93271649], dtype=float32), 0.0030243008]\n",
      "Step: 270 [array([-0.9797129], dtype=float32), array([ 0.94035339], dtype=float32), 0.0023767301]\n",
      "Step: 280 [array([-0.98201555], dtype=float32), array([ 0.94712359], dtype=float32), 0.0018678051]\n",
      "Step: 290 [array([-0.98405695], dtype=float32), array([ 0.95312542], dtype=float32), 0.0014678553]\n",
      "Step: 300 [array([-0.98586655], dtype=float32), array([ 0.95844591], dtype=float32), 0.0011535527]\n",
      "Step: 310 [array([-0.98747075], dtype=float32), array([ 0.96316254], dtype=float32), 0.00090653874]\n",
      "Step: 320 [array([-0.98889285], dtype=float32), array([ 0.96734375], dtype=float32), 0.00071243144]\n",
      "Step: 330 [array([-0.99015361], dtype=float32), array([ 0.97105044], dtype=float32), 0.00055987912]\n",
      "Step: 340 [array([-0.99127126], dtype=float32), array([ 0.97433633], dtype=float32), 0.00043999319]\n",
      "Step: 350 [array([-0.99226201], dtype=float32), array([ 0.97724938], dtype=float32), 0.00034577594]\n",
      "Step: 360 [array([-0.99314034], dtype=float32), array([ 0.97983164], dtype=float32), 0.00027173734]\n",
      "Step: 370 [array([-0.9939189], dtype=float32), array([ 0.98212081], dtype=float32), 0.00021355208]\n",
      "Step: 380 [array([-0.99460912], dtype=float32), array([ 0.98415017], dtype=float32), 0.00016782542]\n",
      "Step: 390 [array([-0.99522096], dtype=float32), array([ 0.9859491], dtype=float32), 0.00013189041]\n",
      "Step: 400 [array([-0.99576342], dtype=float32), array([ 0.98754394], dtype=float32), 0.00010365112]\n",
      "Step: 410 [array([-0.99624425], dtype=float32), array([ 0.98895782], dtype=float32), 8.1456208e-05]\n",
      "Step: 420 [array([-0.9966706], dtype=float32), array([ 0.99021119], dtype=float32), 6.4013169e-05]\n",
      "Step: 430 [array([-0.9970485], dtype=float32), array([ 0.99132222], dtype=float32), 5.0306713e-05]\n",
      "Step: 440 [array([-0.99738348], dtype=float32), array([ 0.99230719], dtype=float32), 3.9534872e-05]\n",
      "Step: 450 [array([-0.99768049], dtype=float32), array([ 0.99318033], dtype=float32), 3.1068928e-05]\n",
      "Step: 460 [array([-0.99794376], dtype=float32), array([ 0.99395436], dtype=float32), 2.4417077e-05]\n",
      "Step: 470 [array([-0.99817717], dtype=float32), array([ 0.99464059], dtype=float32), 1.9188492e-05]\n",
      "Step: 480 [array([-0.99838406], dtype=float32), array([ 0.99524891], dtype=float32), 1.5080138e-05]\n",
      "Step: 490 [array([-0.99856752], dtype=float32), array([ 0.99578822], dtype=float32), 1.1850906e-05]\n",
      "Step: 500 [array([-0.99873006], dtype=float32), array([ 0.99626619], dtype=float32), 9.3134859e-06]\n",
      "Step: 510 [array([-0.99887419], dtype=float32), array([ 0.99668998], dtype=float32), 7.3193482e-06]\n",
      "Step: 520 [array([-0.99900198], dtype=float32), array([ 0.99706566], dtype=float32), 5.7518591e-06]\n",
      "Step: 530 [array([-0.99911523], dtype=float32), array([ 0.99739867], dtype=float32), 4.5206034e-06]\n",
      "Step: 540 [array([-0.9992156], dtype=float32), array([ 0.9976939], dtype=float32), 3.5529988e-06]\n",
      "Step: 550 [array([-0.99930465], dtype=float32), array([ 0.99795568], dtype=float32), 2.7921515e-06]\n",
      "Step: 560 [array([-0.99938363], dtype=float32), array([ 0.99818772], dtype=float32), 2.1942492e-06]\n",
      "Step: 570 [array([-0.99945354], dtype=float32), array([ 0.99839348], dtype=float32), 1.7242201e-06]\n",
      "Step: 580 [array([-0.99951559], dtype=float32), array([ 0.99857587], dtype=float32), 1.3550404e-06]\n",
      "Step: 590 [array([-0.99957061], dtype=float32), array([ 0.99873751], dtype=float32), 1.0647896e-06]\n",
      "Step: 600 [array([-0.99961936], dtype=float32), array([ 0.99888086], dtype=float32), 8.3671165e-07]\n",
      "Step: 610 [array([-0.99966258], dtype=float32), array([ 0.99900788], dtype=float32), 6.5763868e-07]\n",
      "Step: 620 [array([-0.99970084], dtype=float32), array([ 0.99912047], dtype=float32), 5.167816e-07]\n",
      "Step: 630 [array([-0.99973476], dtype=float32), array([ 0.99922019], dtype=float32), 4.0624224e-07]\n",
      "Step: 640 [array([-0.99976492], dtype=float32), array([ 0.99930876], dtype=float32), 3.1919629e-07]\n",
      "Step: 650 [array([-0.99979156], dtype=float32), array([ 0.9993872], dtype=float32), 2.5092038e-07]\n",
      "Step: 660 [array([-0.99981523], dtype=float32), array([ 0.9994567], dtype=float32), 1.9718198e-07]\n",
      "Step: 670 [array([-0.99983621], dtype=float32), array([ 0.99951839], dtype=float32), 1.5494777e-07]\n",
      "Step: 680 [array([-0.9998548], dtype=float32), array([ 0.99957305], dtype=float32), 1.2176901e-07]\n",
      "Step: 690 [array([-0.99987131], dtype=float32), array([ 0.99962163], dtype=float32), 9.5638867e-08]\n",
      "Step: 700 [array([-0.99988592], dtype=float32), array([ 0.9996646], dtype=float32), 7.514916e-08]\n",
      "Step: 710 [array([-0.99989891], dtype=float32), array([ 0.99970263], dtype=float32), 5.9069837e-08]\n",
      "Step: 720 [array([-0.9999103], dtype=float32), array([ 0.99973637], dtype=float32), 4.6413177e-08]\n",
      "Step: 730 [array([-0.99992049], dtype=float32), array([ 0.99976623], dtype=float32), 3.652687e-08]\n",
      "Step: 740 [array([-0.99992949], dtype=float32), array([ 0.99979275], dtype=float32), 2.8711966e-08]\n",
      "Step: 750 [array([-0.99993753], dtype=float32), array([ 0.9998163], dtype=float32), 2.2558808e-08]\n",
      "Step: 760 [array([-0.99994463], dtype=float32), array([ 0.99983716], dtype=float32), 1.7714104e-08]\n",
      "Step: 770 [array([-0.99995089], dtype=float32), array([ 0.99985564], dtype=float32), 1.3910878e-08]\n",
      "Step: 780 [array([-0.99995649], dtype=float32), array([ 0.99987203], dtype=float32), 1.0939349e-08]\n",
      "Step: 790 [array([-0.99996144], dtype=float32), array([ 0.99988657], dtype=float32), 8.5846068e-09]\n",
      "Step: 800 [array([-0.99996579], dtype=float32), array([ 0.99989945], dtype=float32), 6.7539112e-09]\n",
      "Step: 810 [array([-0.99996966], dtype=float32), array([ 0.99991083], dtype=float32), 5.3122911e-09]\n",
      "Step: 820 [array([-0.99997312], dtype=float32), array([ 0.9999209], dtype=float32), 4.1719659e-09]\n",
      "Step: 830 [array([-0.99997616], dtype=float32), array([ 0.99992985], dtype=float32), 3.2878837e-09]\n",
      "Step: 840 [array([-0.99997884], dtype=float32), array([ 0.99993783], dtype=float32), 2.5769396e-09]\n",
      "Step: 850 [array([-0.99998122], dtype=float32), array([ 0.99994481], dtype=float32), 2.0398154e-09]\n",
      "Step: 860 [array([-0.99998337], dtype=float32), array([ 0.99995112], dtype=float32), 1.5958683e-09]\n",
      "Step: 870 [array([-0.99998528], dtype=float32), array([ 0.99995667], dtype=float32), 1.2504415e-09]\n",
      "Step: 880 [array([-0.99998695], dtype=float32), array([ 0.99996156], dtype=float32), 9.9016972e-10]\n",
      "Step: 890 [array([-0.99998838], dtype=float32), array([ 0.99996591], dtype=float32), 7.7683993e-10]\n",
      "Step: 900 [array([-0.99998969], dtype=float32), array([ 0.99996972], dtype=float32), 6.1273298e-10]\n"
     ]
    },
    {
     "name": "stdout",
     "output_type": "stream",
     "text": [
      "Step: 910 [array([-0.99999088], dtype=float32), array([ 0.99997318], dtype=float32), 4.7835513e-10]\n",
      "Step: 920 [array([-0.99999189], dtype=float32), array([ 0.99997616], dtype=float32), 3.7971404e-10]\n",
      "Step: 930 [array([-0.99999285], dtype=float32), array([ 0.9999789], dtype=float32), 2.9903902e-10]\n",
      "Step: 940 [array([-0.99999362], dtype=float32), array([ 0.99998128], dtype=float32), 2.324505e-10]\n",
      "Step: 950 [array([-0.9999944], dtype=float32), array([ 0.99998343], dtype=float32), 1.8181368e-10]\n",
      "Step: 960 [array([-0.99999499], dtype=float32), array([ 0.99998528], dtype=float32), 1.4469848e-10]\n",
      "Step: 970 [array([-0.99999559], dtype=float32), array([ 0.99998707], dtype=float32), 1.1204193e-10]\n",
      "Step: 980 [array([-0.99999613], dtype=float32), array([ 0.99998856], dtype=float32), 8.7442942e-11]\n",
      "Step: 990 [array([-0.99999654], dtype=float32), array([ 0.99998975], dtype=float32), 7.015899e-11]\n",
      "[array([-0.9999969], dtype=float32), array([ 0.99999082], dtype=float32), 5.6999738e-11]\n"
     ]
    }
   ],
   "source": [
    "W = tf.Variable([.3], dtype = tf.float32) #initial value and type\n",
    "b = tf.Variable([-.3], dtype = tf.float32)\n",
    "x = tf.placeholder(tf.float32)\n",
    "y = tf.placeholder(tf.float32)\n",
    "\n",
    "#model\n",
    "linear_model = W * x + b\n",
    "\n",
    "#loss\n",
    "loss = tf.reduce_sum( tf.square(linear_model - y) )\n",
    "\n",
    "#optimizer\n",
    "optimizer = tf.train.GradientDescentOptimizer(0.01)\n",
    "train = optimizer.minimize(loss)\n",
    "\n",
    "# training data\n",
    "x_train = [1, 2, 3, 4]\n",
    "y_train = [0, -1, -2, -3]\n",
    "\n",
    "\n",
    "sess2 = tf.Session( )\n",
    "init = tf.global_variables_initializer()\n",
    "sess2.run(init)\n",
    "for i in range(1000):\n",
    "    sess2.run(train, {x: x_train, y: y_train} )\n",
    "    \n",
    "    if i % 10 == 0:\n",
    "        print(\"Step: \" + str(i), sess2.run([W, b, loss], {x: x_train, y: y_train})) \n",
    "\n",
    "print(sess2.run([W, b, loss], {x: x_train, y: y_train}))"
   ]
  },
  {
   "cell_type": "code",
   "execution_count": null,
   "metadata": {
    "collapsed": true
   },
   "outputs": [],
   "source": [
    ""
   ]
  },
  {
   "cell_type": "code",
   "execution_count": null,
   "metadata": {
    "collapsed": true
   },
   "outputs": [],
   "source": [
    ""
   ]
  }
 ],
 "metadata": {
  "kernelspec": {
   "display_name": "Python 3",
   "language": "python",
   "name": "python3"
  },
  "language_info": {
   "codemirror_mode": {
    "name": "ipython",
    "version": 3.0
   },
   "file_extension": ".py",
   "mimetype": "text/x-python",
   "name": "python",
   "nbconvert_exporter": "python",
   "pygments_lexer": "ipython3",
   "version": "3.5.3"
  }
 },
 "nbformat": 4,
 "nbformat_minor": 0
}