{
 "cells": [
  {
   "cell_type": "code",
   "execution_count": 1,
   "metadata": {},
   "outputs": [
    {
     "name": "stderr",
     "output_type": "stream",
     "text": [
      "Using TensorFlow backend.\n"
     ]
    }
   ],
   "source": [
    "import os\n",
    "import random\n",
    "\n",
    "os.environ['KERAS_BACKEND'] = \"tensorflow\"\n",
    "os.environ[\"CUDA_DEVICE_ORDER\"]=\"PCI_BUS_ID\"\n",
    "os.environ[\"CUDA_VISIBLE_DEVICES\"]=\"0\"\n",
    "\n",
    "import tensorflow as tf\n",
    "from keras.utils.io_utils import HDF5Matrix\n",
    "import h5py\n",
    "import matplotlib.pyplot as plt\n",
    "import numpy as np\n",
    "from keras.models import Sequential\n",
    "from keras.models import Model\n",
    "from keras.layers import *\n",
    "from keras.preprocessing.image import ImageDataGenerator\n",
    "from keras.applications.inception_v3 import InceptionV3\n",
    "from keras.applications.xception import Xception\n",
    "from keras.applications.vgg16 import VGG16"
   ]
  },
  {
   "cell_type": "code",
   "execution_count": 2,
   "metadata": {
    "collapsed": true
   },
   "outputs": [],
   "source": [
    "# DEFINES\n",
    "TRAIN_PATH = 'food-images/food_c101_n10099_r64x64x3.h5'\n",
    "TEST_PATH = 'food-images/food_test_c101_n1000_r64x64x3.h5'\n",
    "\n",
    "IMAGE_CHANNELS = 3\n",
    "BATCH_SIZE = 32\n",
    "EPOCHS = 100\n",
    "IMAGE_WIDTH, IMAGE_HEIGHT = 3, 3\n",
    "#gpu_options = tf.GPUOptions(per_process_gpu_memory_fraction=0.333)"
   ]
  },
  {
   "cell_type": "code",
   "execution_count": 3,
   "metadata": {},
   "outputs": [
    {
     "name": "stdout",
     "output_type": "stream",
     "text": [
      "X_train shape:  (10099, 64, 64, 3)  y_train shape:  (10099, 101)\n",
      "X_test shape:  (1000, 64, 64, 3)  y_test shape:  (1000, 101)\n"
     ]
    }
   ],
   "source": [
    "# GET DATA\n",
    "X_train = HDF5Matrix(TRAIN_PATH, 'images')  # Shape (10099, 32, 32, 3) => [image_index][pixel_width_index][pixel_height_index][color_channel_index]\n",
    "y_train = HDF5Matrix(TRAIN_PATH, 'category')  # Shape (1000, 101) => [image_index][one_hot_encoded_vector]\n",
    "print(\"X_train shape: \", X_train.shape, \" y_train shape: \", y_train.shape)\n",
    "\n",
    "X_test = HDF5Matrix(TEST_PATH,\n",
    "                    'images')  # Shape (10099, 32, 32, 3) => [image_index][pixel_width_index][pixel_height_index][color_channel_index]\n",
    "y_test = HDF5Matrix(TEST_PATH, 'category')  # Shape (1000, 101) => [image_index][one_hot_encoded_vector]\n",
    "print(\"X_test shape: \", X_test.shape, \" y_test shape: \", y_test.shape)"
   ]
  },
  {
   "cell_type": "code",
   "execution_count": 4,
   "metadata": {},
   "outputs": [
    {
     "name": "stdout",
     "output_type": "stream",
     "text": [
      "Downloading data from https://github.com/fchollet/deep-learning-models/releases/download/v0.1/vgg16_weights_tf_dim_ordering_tf_kernels_notop.h5\n",
      "58736640/58889256 [============================>.] - ETA: 0s"
     ]
    }
   ],
   "source": [
    "base_model = VGG16(include_top = False, weights='imagenet', input_tensor=None, input_shape = [64, 64, 3], pooling=None, classes=1000)\n",
    "#base_model = Xception(include_top= False, weights='imagenet', input_tensor=None, input_shape = [384, 384, 3], pooling=None, classes=1000)\n",
    "#base_model = InceptionV3(include_top = False, weights = 'imagenet', input_tensor = None, input_shape = [384, 384, 3], pooling = None, classes = 101)\n",
    "# Pop the last dense layer\n",
    "#base_model.layers.pop()\n",
    "# Form a new model with just the layers we meed\n",
    "filtered_base_model = Model(inputs = base_model.input, outputs = base_model.layers[-1].output)\n",
    "\n",
    "# Add my layer[s]\n",
    "output = filtered_base_model.output\n",
    "output = Flatten()(output)\n",
    "output = Dense(1024, name=\"1-dense\", activation='relu')(output)\n",
    "output = Dense(2048, name=\"12-dense\", activation='relu')(output)\n",
    "output = Dense(101, activation = 'softmax')(output)\n",
    "\n",
    "\n",
    "classifier = Model(inputs=base_model.input, outputs=output)\n",
    "    \n",
    "classifier.compile(optimizer = 'adam', loss = 'categorical_crossentropy', metrics = ['accuracy'])"
   ]
  },
  {
   "cell_type": "code",
   "execution_count": null,
   "metadata": {},
   "outputs": [
    {
     "name": "stdout",
     "output_type": "stream",
     "text": [
      "_________________________________________________________________\n",
      "Layer (type)                 Output Shape              Param #   \n",
      "=================================================================\n",
      "input_1 (InputLayer)         (None, 64, 64, 3)         0         \n",
      "_________________________________________________________________\n",
      "block1_conv1 (Conv2D)        (None, 64, 64, 64)        1792      \n",
      "_________________________________________________________________\n",
      "block1_conv2 (Conv2D)        (None, 64, 64, 64)        36928     \n",
      "_________________________________________________________________\n",
      "block1_pool (MaxPooling2D)   (None, 32, 32, 64)        0         \n",
      "_________________________________________________________________\n",
      "block2_conv1 (Conv2D)        (None, 32, 32, 128)       73856     \n",
      "_________________________________________________________________\n",
      "block2_conv2 (Conv2D)        (None, 32, 32, 128)       147584    \n",
      "_________________________________________________________________\n",
      "block2_pool (MaxPooling2D)   (None, 16, 16, 128)       0         \n",
      "_________________________________________________________________\n",
      "block3_conv1 (Conv2D)        (None, 16, 16, 256)       295168    \n",
      "_________________________________________________________________\n",
      "block3_conv2 (Conv2D)        (None, 16, 16, 256)       590080    \n",
      "_________________________________________________________________\n",
      "block3_conv3 (Conv2D)        (None, 16, 16, 256)       590080    \n",
      "_________________________________________________________________\n",
      "block3_pool (MaxPooling2D)   (None, 8, 8, 256)         0         \n",
      "_________________________________________________________________\n",
      "block4_conv1 (Conv2D)        (None, 8, 8, 512)         1180160   \n",
      "_________________________________________________________________\n",
      "block4_conv2 (Conv2D)        (None, 8, 8, 512)         2359808   \n",
      "_________________________________________________________________\n",
      "block4_conv3 (Conv2D)        (None, 8, 8, 512)         2359808   \n",
      "_________________________________________________________________\n",
      "block4_pool (MaxPooling2D)   (None, 4, 4, 512)         0         \n",
      "_________________________________________________________________\n",
      "block5_conv1 (Conv2D)        (None, 4, 4, 512)         2359808   \n",
      "_________________________________________________________________\n",
      "block5_conv2 (Conv2D)        (None, 4, 4, 512)         2359808   \n",
      "_________________________________________________________________\n",
      "block5_conv3 (Conv2D)        (None, 4, 4, 512)         2359808   \n",
      "_________________________________________________________________\n",
      "block5_pool (MaxPooling2D)   (None, 2, 2, 512)         0         \n",
      "_________________________________________________________________\n",
      "flatten_1 (Flatten)          (None, 2048)              0         \n",
      "_________________________________________________________________\n",
      "1-dense (Dense)              (None, 1024)              2098176   \n",
      "_________________________________________________________________\n",
      "12-dense (Dense)             (None, 2048)              2099200   \n",
      "_________________________________________________________________\n",
      "dense_1 (Dense)              (None, 101)               206949    \n",
      "=================================================================\n",
      "Total params: 19,119,013\n",
      "Trainable params: 19,119,013\n",
      "Non-trainable params: 0\n",
      "_________________________________________________________________\n",
      "None\n"
     ]
    }
   ],
   "source": [
    "print( classifier.summary() )\n"
   ]
  },
  {
   "cell_type": "code",
   "execution_count": null,
   "metadata": {},
   "outputs": [
    {
     "name": "stdout",
     "output_type": "stream",
     "text": [
      "Epoch 1/80\n",
      "10099/10099 [==============================] - 71s - loss: 15.9365 - acc: 0.0109    \n",
      "Epoch 2/80\n",
      "10099/10099 [==============================] - 65s - loss: 15.9457 - acc: 0.0107    \n",
      "Epoch 3/80\n",
      "10099/10099 [==============================] - 68s - loss: 15.9457 - acc: 0.0107    \n",
      "Epoch 4/80\n",
      "10099/10099 [==============================] - 70s - loss: 15.9457 - acc: 0.0107    \n",
      "Epoch 5/80\n",
      "10099/10099 [==============================] - 69s - loss: 15.9457 - acc: 0.0107    \n",
      "Epoch 6/80\n",
      "10099/10099 [==============================] - 69s - loss: 15.9457 - acc: 0.0107    \n",
      "Epoch 7/80\n",
      "10099/10099 [==============================] - 69s - loss: 15.9457 - acc: 0.0107    \n",
      "Epoch 8/80\n",
      " 7392/10099 [====================>.........] - ETA: 18s - loss: 15.9393 - acc: 0.0111"
     ]
    }
   ],
   "source": [
    "classifier.fit(X_train, \n",
    "               y_train, \n",
    "               batch_size= 32,\n",
    "               epochs = 80,\n",
    "               shuffle=\"batch\"\n",
    ")"
   ]
  },
  {
   "cell_type": "code",
   "execution_count": null,
   "metadata": {
    "collapsed": true
   },
   "outputs": [],
   "source": []
  }
 ],
 "metadata": {
  "kernelspec": {
   "display_name": "Python 3",
   "language": "python",
   "name": "python3"
  },
  "language_info": {
   "codemirror_mode": {
    "name": "ipython",
    "version": 3
   },
   "file_extension": ".py",
   "mimetype": "text/x-python",
   "name": "python",
   "nbconvert_exporter": "python",
   "pygments_lexer": "ipython3",
   "version": "3.5.3"
  }
 },
 "nbformat": 4,
 "nbformat_minor": 2
}
