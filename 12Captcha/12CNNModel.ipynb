{
 "cells": [
  {
   "cell_type": "code",
   "execution_count": 1,
   "metadata": {},
   "outputs": [
    {
     "name": "stderr",
     "output_type": "stream",
     "text": [
      "Using TensorFlow backend.\n"
     ]
    }
   ],
   "source": [
    "#Model failed (0% accuracy)\n",
    "#Must use LSTM \n",
    "import os\n",
    "\n",
    "from keras.callbacks import ModelCheckpoint\n",
    "\n",
    "os.environ[\"CUDA_DEVICE_ORDER\"]=\"PCI_BUS_ID\"\n",
    "os.environ[\"CUDA_VISIBLE_DEVICES\"]=\"0\"\n",
    "\n",
    "import glob\n",
    "from keras.models import Sequential\n",
    "from keras.layers import Convolution2D\n",
    "from keras.layers import MaxPooling2D\n",
    "from keras.layers import Flatten\n",
    "from keras.layers import Dense\n",
    "from keras.layers import Activation\n",
    "from keras.layers import Dropout\n",
    "from keras.preprocessing.image import ImageDataGenerator\n",
    "from keras.preprocessing.sequence import pad_sequences\n",
    "from numpy import genfromtxt\n",
    "from keras.utils import np_utils\n",
    "import tensorflow\n",
    "import numpy\n",
    "import os\n",
    "import cv2\n",
    "import sys\n",
    "from keras import backend as K\n",
    "K.set_image_dim_ordering('th')\n",
    "\n",
    "cwd = os.getcwd()"
   ]
  },
  {
   "cell_type": "code",
   "execution_count": 2,
   "metadata": {
    "collapsed": true
   },
   "outputs": [],
   "source": [
    "#Part 1 -> defines\n",
    "img_rows, img_cols = 128, 128\n",
    "nb_filters = 32 # nr of conv filters to use\n",
    "nb_pool = 2 # size of pooling area\n",
    "nb_conv = 3 # convolution kernel size"
   ]
  },
  {
   "cell_type": "code",
   "execution_count": 3,
   "metadata": {
    "collapsed": true
   },
   "outputs": [],
   "source": [
    "#Part 2 -> get data\n",
    "def getData():\n",
    "    train_datagen = ImageDataGenerator(rescale = 1./255,\n",
    "                                   shear_range = 0.2,\n",
    "                                   zoom_range = 0.2,\n",
    "                                   horizontal_flip = True)\n",
    "\n",
    "    test_datagen = ImageDataGenerator()\n",
    "\n",
    "    training_set = train_datagen.flow_from_directory('dataset/training_set',\n",
    "                                                     target_size = (img_rows, img_cols),\n",
    "                                                     batch_size = 64,\n",
    "                                                     class_mode = 'sparse',\n",
    "                                                     color_mode = 'grayscale')\n",
    "\n",
    "    test_set = train_datagen.flow_from_directory('dataset/test_set',\n",
    "                                                 target_size = (img_rows, img_cols),\n",
    "                                                 batch_size = 64,\n",
    "                                                 class_mode = 'sparse',\n",
    "                                                 color_mode = 'grayscale')\n",
    "\n",
    "    return training_set, test_set"
   ]
  },
  {
   "cell_type": "code",
   "execution_count": 4,
   "metadata": {},
   "outputs": [],
   "source": [
    "#Part 3 -> get the model\n",
    "def getModel():\n",
    "    classifier = Sequential()\n",
    "    classifier.add(\n",
    "    Convolution2D(32, 3, 3, input_shape=(1, 128, 128), activation='relu')\n",
    "    )\n",
    "    classifier.add(Dropout(0.2))\n",
    "    classifier.add(Convolution2D(64, 3, 3, activation='relu'))\n",
    "    classifier.add(MaxPooling2D(pool_size=(2, 2)))\n",
    "    classifier.add(Convolution2D(64, 3, 3, activation='relu'))\n",
    "    classifier.add(MaxPooling2D(pool_size=(2, 2)))\n",
    "    classifier.add(Convolution2D(128, 3, 3, activation='relu'))\n",
    "\n",
    "    classifier.add(Flatten())\n",
    "    classifier.add(Dense(1024, activation='relu'))\n",
    "    classifier.add(Dropout(0.2))\n",
    "    classifier.add(Dense(1024, activation='relu'))\n",
    "    classifier.add(Dense(512, activation='relu'))\n",
    "    classifier.add(Dropout(0.2))\n",
    "    classifier.add(Dense(output_dim = 1, activation = 'linear'))\n",
    "\n",
    "    classifier.compile(optimizer = 'adam', loss = 'mse', metrics = ['accuracy'])\n",
    "    return classifier"
   ]
  },
  {
   "cell_type": "code",
   "execution_count": null,
   "metadata": {
    "collapsed": true
   },
   "outputs": [],
   "source": [
    "#Part 4 -> fit the model\n",
    "def fitModel(training_set, test_set, classifier):\n",
    "    filepath = sys.argv[0] + \"-{epoch:02d}-{loss:.4f}.hdf5\"\n",
    "    checkpoint = ModelCheckpoint(filepath, monitor='loss', verbose=1, save_best_only=True, mode='min')\n",
    "    callbacks_list = [checkpoint]\n",
    "\n",
    "    classifier.fit_generator(training_set,\n",
    "                             samples_per_epoch = 1562,\n",
    "                             nb_epoch = 120,\n",
    "                             validation_data = test_set,\n",
    "                             nb_val_samples = 781,\n",
    "                             callbacks = callbacks_list)"
   ]
  },
  {
   "cell_type": "code",
   "execution_count": null,
   "metadata": {
    "scrolled": true
   },
   "outputs": [
    {
     "name": "stdout",
     "output_type": "stream",
     "text": [
      "Found 100000 images belonging to 900 classes.\n",
      "Found 50000 images belonging to 900 classes.\n",
      "Epoch 1/120\n",
      "1536/1562 [============================>.] - ETA: 1s - loss: 131912.0798 - acc: 0.0013    "
     ]
    },
    {
     "name": "stderr",
     "output_type": "stream",
     "text": [
      "/usr/local/lib/python2.7/dist-packages/keras/engine/training.py:1527: UserWarning: Epoch comprised more than `samples_per_epoch` samples, which might affect learning results. Set `samples_per_epoch` correctly to avoid this warning.\n",
      "  warnings.warn('Epoch comprised more than '\n"
     ]
    },
    {
     "name": "stdout",
     "output_type": "stream",
     "text": [
      "Epoch 00000: loss improved from inf to 129007.57703, saving model to /usr/local/lib/python2.7/dist-packages/ipykernel_launcher.py-00-129007.5770.hdf5\n",
      "1600/1562 [==============================] - 108s - loss: 129007.5770 - acc: 0.0013 - val_loss: 70907.8555 - val_acc: 0.0012\n",
      "Epoch 2/120\n",
      "1536/1562 [============================>.] - ETA: 1s - loss: 67465.2754 - acc: 0.0026Epoch 00002: loss improved from 79222.47906 to 68002.59719, saving model to /usr/local/lib/python2.7/dist-packages/ipykernel_launcher.py-02-68002.5972.hdf5\n",
      "1600/1562 [==============================] - 101s - loss: 68002.5972 - acc: 0.0025 - val_loss: 105942.0799 - val_acc: 0.0000e+00\n",
      "Epoch 4/120\n",
      "1536/1562 [============================>.] - ETA: 1s - loss: 71900.5068 - acc: 0.0020Epoch 00003: loss did not improve\n",
      "1600/1562 [==============================] - 99s - loss: 72990.5575 - acc: 0.0025 - val_loss: 128708.3395 - val_acc: 0.0012\n",
      "Epoch 5/120\n",
      "1536/1562 [============================>.] - ETA: 1s - loss: 77195.2992 - acc: 0.0000e+00Epoch 00004: loss did not improve\n",
      "1600/1562 [==============================] - 99s - loss: 76707.1928 - acc: 0.0000e+00 - val_loss: 77948.8218 - val_acc: 0.0000e+00\n",
      "Epoch 6/120\n",
      "1536/1562 [============================>.] - ETA: 1s - loss: 68962.2446 - acc: 6.5104e-04Epoch 00005: loss did not improve\n",
      "1600/1562 [==============================] - 99s - loss: 69219.8092 - acc: 6.2500e-04 - val_loss: 89663.3756 - val_acc: 0.0036\n",
      "Epoch 7/120\n",
      "1536/1562 [============================>.] - ETA: 1s - loss: 66523.6935 - acc: 0.0020Epoch 00006: loss improved from 68002.59719 to 66797.96703, saving model to /usr/local/lib/python2.7/dist-packages/ipykernel_launcher.py-06-66797.9670.hdf5\n",
      "1600/1562 [==============================] - 101s - loss: 66797.9670 - acc: 0.0019 - val_loss: 83076.3894 - val_acc: 0.0012\n",
      "Epoch 8/120\n",
      "1536/1562 [============================>.] - ETA: 1s - loss: 68313.5444 - acc: 0.0020Epoch 00007: loss did not improve\n",
      "1600/1562 [==============================] - 99s - loss: 68747.3739 - acc: 0.0019 - val_loss: 88339.5685 - val_acc: 0.0012\n",
      "Epoch 9/120\n",
      " 128/1562 [=>............................] - ETA: 78s - loss: 59803.8594 - acc: 0.0000e+00"
     ]
    }
   ],
   "source": [
    "#Part 5 -> run everything\n",
    "training_set, test_set = getData()\n",
    "classifier = getModel()\n",
    "fitModel(training_set, test_set, classifier)"
   ]
  },
  {
   "cell_type": "code",
   "execution_count": null,
   "metadata": {
    "collapsed": true
   },
   "outputs": [],
   "source": [
    ""
   ]
  }
 ],
 "metadata": {
  "kernelspec": {
   "display_name": "Python 2",
   "language": "python",
   "name": "python2"
  },
  "language_info": {
   "codemirror_mode": {
    "name": "ipython",
    "version": 2.0
   },
   "file_extension": ".py",
   "mimetype": "text/x-python",
   "name": "python",
   "nbconvert_exporter": "python",
   "pygments_lexer": "ipython2",
   "version": "2.7.6"
  }
 },
 "nbformat": 4,
 "nbformat_minor": 0
}